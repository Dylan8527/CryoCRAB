{
 "cells": [
  {
   "cell_type": "markdown",
   "metadata": {},
   "source": [
    "# MongoDB Dataset Generation\n",
    "\n",
    "This is the second step to create cryo-EM datasets from EMPIAR. The purpose of this step is to import all empiar datasets with metadata into MongoDB for curation and filteration."
   ]
  },
  {
   "cell_type": "code",
   "execution_count": 1,
   "metadata": {},
   "outputs": [
    {
     "name": "stdout",
     "output_type": "stream",
     "text": [
      "project_root = '/home/vrlab/code/Cryo/CryoCRAB-Scripts'\n"
     ]
    }
   ],
   "source": [
    "\n",
    "import sys, os\n",
    "project_root = os.path.dirname(os.path.abspath('.'))\n",
    "if project_root not in sys.path:\n",
    "    sys.path.append(project_root)\n",
    "print(f\"{project_root = }\")\n",
    "from CryoCRAB import *\n",
    "import logging\n",
    "logging.getLogger().setLevel(logging.INFO)\n",
    "logging.getLogger(\"pymongo\").setLevel(logging.WARNING)"
   ]
  },
  {
   "cell_type": "code",
   "execution_count": 2,
   "metadata": {},
   "outputs": [],
   "source": [
    "# os.environ[\"CRYOCRAB_PROJECT_SAVE_DIR\"] = None\n",
    "# os.environ[\"CRYOCRAB_MONGODB_HOST\"] = None\n",
    "# os.environ[\"CRYOCRAB_MONGODB_PORT\"] = None\n",
    "# os.environ[\"CRYOCRAB_MONGODB_DBNAME\"] = None"
   ]
  },
  {
   "cell_type": "markdown",
   "metadata": {},
   "source": [
    "## Create All Imagesets (not only SPA)"
   ]
  },
  {
   "cell_type": "code",
   "execution_count": 4,
   "metadata": {},
   "outputs": [
    {
     "name": "stderr",
     "output_type": "stream",
     "text": [
      "100%|██████████| 1877/1877 [00:42<00:00, 44.48it/s]"
     ]
    },
    {
     "name": "stdout",
     "output_type": "stream",
     "text": [
      "All Imagesets (not only SPA) total image num: {}, after filtering: {} 13219946 2129664\n"
     ]
    },
    {
     "name": "stderr",
     "output_type": "stream",
     "text": [
      "\n"
     ]
    }
   ],
   "source": [
    "from CryoCRAB.pipeline.empiar_data_curation.step4_generate_dataset_document import \\\n",
    "    generate_empiar_dataset_documents\n",
    "from CryoCRAB.utils.mongodb import get_empiar_dataset, get_total_image_num_given_dataset\n",
    "\n",
    "generate_empiar_dataset_documents(num_workers=8, image_max_num=1000)\n",
    "empiar_dataset = get_empiar_dataset()\n",
    "total_image_num = get_total_image_num_given_dataset(empiar_dataset)\n",
    "filter_image_num = get_total_image_num_given_dataset(empiar_dataset, image_max_num=1000)\n",
    "print(\"All Imagesets (not only SPA) total image num: {}, after filtering: {}\", total_image_num, filter_image_num)"
   ]
  },
  {
   "cell_type": "markdown",
   "metadata": {},
   "source": [
    "## Create Movie Imagesets"
   ]
  },
  {
   "cell_type": "code",
   "execution_count": 5,
   "metadata": {},
   "outputs": [
    {
     "name": "stderr",
     "output_type": "stream",
     "text": [
      "100%|██████████| 1877/1877 [00:39<00:00, 48.07it/s]"
     ]
    },
    {
     "name": "stdout",
     "output_type": "stream",
     "text": [
      "SPA Movie Imagesets total image num: {}, after filtering: {} 8798592 1354390\n"
     ]
    },
    {
     "name": "stderr",
     "output_type": "stream",
     "text": [
      "\n"
     ]
    }
   ],
   "source": [
    "from CryoCRAB.pipeline.empiar_data_curation.step4_generate_dataset_document import \\\n",
    "    generate_movie_dataset_documents\n",
    "from CryoCRAB.utils.mongodb import get_spa_movie_dataset, get_total_image_num_given_dataset\n",
    "\n",
    "generate_movie_dataset_documents(num_workers=8, image_max_num=1000)\n",
    "spa_movie_dataset = get_spa_movie_dataset()\n",
    "total_image_num = get_total_image_num_given_dataset(spa_movie_dataset)\n",
    "filter_image_num = get_total_image_num_given_dataset(spa_movie_dataset, image_max_num=1000)\n",
    "print(\"SPA Movie Imagesets total image num: {}, after filtering: {}\", total_image_num, filter_image_num)"
   ]
  },
  {
   "cell_type": "markdown",
   "metadata": {},
   "source": [
    "## Create Micrograph Imagesets"
   ]
  },
  {
   "cell_type": "code",
   "execution_count": 6,
   "metadata": {},
   "outputs": [
    {
     "name": "stderr",
     "output_type": "stream",
     "text": [
      "100%|██████████| 1877/1877 [00:34<00:00, 54.01it/s]"
     ]
    },
    {
     "name": "stdout",
     "output_type": "stream",
     "text": [
      "SPA Micrograph Imagesets total image num: {}, after filtering: {} 2100261 273541\n"
     ]
    },
    {
     "name": "stderr",
     "output_type": "stream",
     "text": [
      "\n"
     ]
    }
   ],
   "source": [
    "from CryoCRAB.pipeline.empiar_data_curation.step4_generate_dataset_document import \\\n",
    "    generate_micrograph_dataset_documents\n",
    "from CryoCRAB.utils.mongodb import get_spa_micrograph_dataset, get_total_image_num_given_dataset\n",
    "\n",
    "generate_micrograph_dataset_documents(num_workers=8, image_max_num=1000)\n",
    "spa_micrograph_dataset = get_spa_micrograph_dataset()\n",
    "total_image_num = get_total_image_num_given_dataset(spa_micrograph_dataset)\n",
    "filter_image_num = get_total_image_num_given_dataset(spa_micrograph_dataset, image_max_num=1000)\n",
    "print(\"SPA Micrograph Imagesets total image num: {}, after filtering: {}\", total_image_num, filter_image_num)"
   ]
  }
 ],
 "metadata": {
  "kernelspec": {
   "display_name": "Python 3",
   "language": "python",
   "name": "python3"
  },
  "language_info": {
   "codemirror_mode": {
    "name": "ipython",
    "version": 3
   },
   "file_extension": ".py",
   "mimetype": "text/x-python",
   "name": "python",
   "nbconvert_exporter": "python",
   "pygments_lexer": "ipython3",
   "version": "3.10.13"
  }
 },
 "nbformat": 4,
 "nbformat_minor": 2
}
