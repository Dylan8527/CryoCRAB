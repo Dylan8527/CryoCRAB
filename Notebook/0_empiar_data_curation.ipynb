{
 "cells": [
  {
   "cell_type": "markdown",
   "metadata": {},
   "source": [
    "# EMPIAR Data Curation\n",
    "\n",
    "This is the first step to create cryo-EM datasets from EMPIAR. The purpose of this step is to find all empiar imagesets and collect all useful metadata from empiar dataset entries and their corresponding resolved emdb entries."
   ]
  },
  {
   "cell_type": "code",
   "execution_count": 4,
   "metadata": {},
   "outputs": [
    {
     "name": "stdout",
     "output_type": "stream",
     "text": [
      "project_root = '/home/vrlab/code/Cryo/CryoCRAB-Scripts'\n"
     ]
    }
   ],
   "source": [
    "import sys, os\n",
    "project_root = os.path.dirname(os.path.abspath('.'))\n",
    "if project_root not in sys.path:\n",
    "    sys.path.append(project_root)\n",
    "print(f\"{project_root = }\")\n",
    "from CryoCRAB import *\n",
    "import logging\n",
    "logging.getLogger().setLevel(logging.DEBUG)\n",
    "logging.getLogger(\"pymongo\").setLevel(logging.WARNING)"
   ]
  },
  {
   "cell_type": "code",
   "execution_count": null,
   "metadata": {},
   "outputs": [],
   "source": [
    "# os.environ[\"CRYOCRAB_PROJECT_SAVE_DIR\"] = None"
   ]
  },
  {
   "cell_type": "markdown",
   "metadata": {},
   "source": [
    "## Get EMPIAR IDs"
   ]
  },
  {
   "cell_type": "code",
   "execution_count": 2,
   "metadata": {},
   "outputs": [
    {
     "name": "stdout",
     "output_type": "stream",
     "text": [
      "/home/vrlab/code/Cryo/CryoCRAB-Scripts\n",
      "empiar_ids[:5] = ['EMPIAR-10002', 'EMPIAR-10003', 'EMPIAR-10004', 'EMPIAR-10005', 'EMPIAR-10006']\n"
     ]
    }
   ],
   "source": [
    "from CryoCRAB.pipeline.empiar_data_curation.step0_empiar_ids import \\\n",
    "    get_empiar_ids, save_empiar_ids, load_empiar_ids\n",
    "\n",
    "# crawl empiar id via FTP \n",
    "empiar_ids = get_empiar_ids() \n",
    "# save empiar id into a .csv file\n",
    "save_empiar_ids()\n",
    "# load empiad id from the .csv file\n",
    "empiar_ids = load_empiar_ids()\n",
    "print(f\"{empiar_ids[:5] = }\")"
   ]
  },
  {
   "cell_type": "markdown",
   "metadata": {},
   "source": [
    "## Get EMPIAR Storage Structures"
   ]
  },
  {
   "cell_type": "code",
   "execution_count": 3,
   "metadata": {},
   "outputs": [
    {
     "name": "stdout",
     "output_type": "stream",
     "text": [
      "empiar_id = 'EMPIAR-10002'\n",
      "empiar_structure = ['10002.xml', {'data': ['100_movie_gc.mrcs', '101_movie_gc.mrcs', '102_movie_gc.mrcs', '103_movie_gc.mrcs', '104_movie_gc.mrcs', '105_movie_gc.mrcs', '106_movie_gc.mrcs', '107_movie_gc.mrcs', '108_movie_gc.mrcs', '109_movie_gc.mrcs', '110_movie_gc.mrcs', '111_movie_gc.mrcs', '112_movie_gc.mrcs', '113_movie_gc.mrcs', '114_movie_gc.mrcs', '115_movie_gc.mrcs', '117_movie_gc.mrcs', '118_movie_gc.mrcs', '119_movie_gc.mrcs', '120_movie_gc.mrcs', '121_movie_gc.mrcs', '122_movie_gc.mrcs', '123_movie_gc.mrcs', '124_movie_gc.mrcs', '125_movie_gc.mrcs', '126_movie_gc.mrcs', '127_movie_gc.mrcs', '128_movie_gc.mrcs', '129_movie_gc.mrcs', '130_movie_gc.mrcs', '131_movie_gc.mrcs', '132_movie_gc.mrcs', '133_movie_gc.mrcs', '134_movie_gc.mrcs', '135_movie_gc.mrcs', '136_movie_gc.mrcs', '137_movie_gc.mrcs', '139_movie_gc.mrcs', '140_movie_gc.mrcs', '141_movie_gc.mrcs', '142_movie_gc.mrcs', '143_movie_gc.mrcs', '144_movie_gc.mrcs', '145_movie_gc.mrcs', '146_movie_gc.mrcs', '147_movie_gc.mrcs', '148_movie_gc.mrcs', '149_movie_gc.mrcs', '150_movie_gc.mrcs', '151_movie_gc.mrcs', '153_movie_gc.mrcs', '154_movie_gc.mrcs', '155_movie_gc.mrcs', '156_movie_gc.mrcs', '157_movie_gc.mrcs', '159_movie_gc.mrcs', '15_movie_gc.mrcs', '160_movie_gc.mrcs', '161_movie_gc.mrcs', '162_movie_gc.mrcs', '163_movie_gc.mrcs', '164_movie_gc.mrcs', '165_movie_gc.mrcs', '166_movie_gc.mrcs', '167_movie_gc.mrcs', '168_movie_gc.mrcs', '169_movie_gc.mrcs', '16_movie_gc.mrcs', '170_movie_gc.mrcs', '171_movie_gc.mrcs', '172_movie_gc.mrcs', '173_movie_gc.mrcs', '174_movie_gc.mrcs', '175_movie_gc.mrcs', '176_movie_gc.mrcs', '177_movie_gc.mrcs', '178_movie_gc.mrcs', '179_movie_gc.mrcs', '17_movie_gc.mrcs', '180_movie_gc.mrcs', '181_movie_gc.mrcs', '182_movie_gc.mrcs', '183_movie_gc.mrcs', '184_movie_gc.mrcs', '185_movie_gc.mrcs', '186_movie_gc.mrcs', '187_movie_gc.mrcs', '188_movie_gc.mrcs', '189_movie_gc.mrcs', '18_movie_gc.mrcs', '190_movie_gc.mrcs', '192_movie_gc.mrcs', '193_movie_gc.mrcs', '195_movie_gc.mrcs', '197_movie_gc.mrcs', '198_movie_gc.mrcs', '199_movie_gc.mrcs', '200_movie_gc.mrcs', '201_movie_gc.mrcs', '202_movie_gc.mrcs', '203_movie_gc.mrcs', '204_movie_gc.mrcs', '205_movie_gc.mrcs', '206_movie_gc.mrcs', '207_movie_gc.mrcs', '208_movie_gc.mrcs', '209_movie_gc.mrcs', '20_movie_gc.mrcs', '210_movie_gc.mrcs', '211_movie_gc.mrcs', '212_movie_gc.mrcs', '213_movie_gc.mrcs', '214_movie_gc.mrcs', '215_movie_gc.mrcs', '216_movie_gc.mrcs', '217_movie_gc.mrcs', '218_movie_gc.mrcs', '219_movie_gc.mrcs', '21_movie_gc.mrcs', '220_movie_gc.mrcs', '221_movie_gc.mrcs', '222_movie_gc.mrcs', '223_movie_gc.mrcs', '224_movie_gc.mrcs', '225_movie_gc.mrcs', '226_movie_gc.mrcs', '227_movie_gc.mrcs', '228_movie_gc.mrcs', '229_movie_gc.mrcs', '22_movie_gc.mrcs', '230_movie_gc.mrcs', '231_movie_gc.mrcs', '232_movie_gc.mrcs', '233_movie_gc.mrcs', '234_movie_gc.mrcs', '235_movie_gc.mrcs', '236_movie_gc.mrcs', '238_movie_gc.mrcs', '239_movie_gc.mrcs', '23_movie_gc.mrcs', '240_movie_gc.mrcs', '241_movie_gc.mrcs', '243_movie_gc.mrcs', '244_movie_gc.mrcs', '245_movie_gc.mrcs', '246_movie_gc.mrcs', '247_movie_gc.mrcs', '248_movie_gc.mrcs', '249_movie_gc.mrcs', '24_movie_gc.mrcs', '250_movie_gc.mrcs', '251_movie_gc.mrcs', '252_movie_gc.mrcs', '254_movie_gc.mrcs', '255_movie_gc.mrcs', '256_movie_gc.mrcs', '257_movie_gc.mrcs', '258_movie_gc.mrcs', '259_movie_gc.mrcs', '25_movie_gc.mrcs', '260_movie_gc.mrcs', '261_movie_gc.mrcs', '262_movie_gc.mrcs', '263_movie_gc.mrcs', '264_movie_gc.mrcs', '265_movie_gc.mrcs', '266_movie_gc.mrcs', '267_movie_gc.mrcs', '269_movie_gc.mrcs', '26_movie_gc.mrcs', '270_movie_gc.mrcs', '271_movie_gc.mrcs', '272_movie_gc.mrcs', '273_movie_gc.mrcs', '274_movie_gc.mrcs', '275_movie_gc.mrcs', '276_movie_gc.mrcs', '277_movie_gc.mrcs', '278_movie_gc.mrcs', '279_movie_gc.mrcs', '27_movie_gc.mrcs', '280_movie_gc.mrcs', '281_movie_gc.mrcs', '282_movie_gc.mrcs', '283_movie_gc.mrcs', '284_movie_gc.mrcs', '285_movie_gc.mrcs', '286_movie_gc.mrcs', '287_movie_gc.mrcs', '288_movie_gc.mrcs', '289_movie_gc.mrcs', '28_movie_gc.mrcs', '290_movie_gc.mrcs', '30_movie_gc.mrcs', '31_movie_gc.mrcs', '32_movie_gc.mrcs', '33_movie_gc.mrcs', '34_movie_gc.mrcs', '35_movie_gc.mrcs', '36_movie_gc.mrcs', '37_movie_gc.mrcs', '38_movie_gc.mrcs', '39_movie_gc.mrcs', '40_movie_gc.mrcs', '41_movie_gc.mrcs', '42_movie_gc.mrcs', '43_movie_gc.mrcs', '44_movie_gc.mrcs', '45_movie_gc.mrcs', '46_movie_gc.mrcs', '47_movie_gc.mrcs', '48_movie_gc.mrcs', '49_movie_gc.mrcs', '50_movie_gc.mrcs', '51_movie_gc.mrcs', '52_movie_gc.mrcs', '53_movie_gc.mrcs', '56_movie_gc.mrcs', '57_movie_gc.mrcs', '58_movie_gc.mrcs', '59_movie_gc.mrcs', '60_movie_gc.mrcs', '61_movie_gc.mrcs', '62_movie_gc.mrcs', '63_movie_gc.mrcs', '64_movie_gc.mrcs', '65_movie_gc.mrcs', '66_movie_gc.mrcs', '67_movie_gc.mrcs', '68_movie_gc.mrcs', '69_movie_gc.mrcs', '70_movie_gc.mrcs', '71_movie_gc.mrcs', '72_movie_gc.mrcs', '73_movie_gc.mrcs', '74_movie_gc.mrcs', '75_movie_gc.mrcs', '76_movie_gc.mrcs', '77_movie_gc.mrcs', '78_movie_gc.mrcs', '79_movie_gc.mrcs', '80_movie_gc.mrcs', '81_movie_gc.mrcs', '82_movie_gc.mrcs', '83_movie_gc.mrcs', '84_movie_gc.mrcs', '85_movie_gc.mrcs', '86_movie_gc.mrcs', '87_movie_gc.mrcs', '88_movie_gc.mrcs', '89_movie_gc.mrcs', '90_movie_gc.mrcs', '92_movie_gc.mrcs', '93_movie_gc.mrcs', '94_movie_gc.mrcs', '95_movie_gc.mrcs', '96_movie_gc.mrcs', '97_movie_gc.mrcs', '98_movie_gc.mrcs', '99_movie_gc.mrcs']}]\n"
     ]
    }
   ],
   "source": [
    "from CryoCRAB.pipeline.empiar_data_curation.step1_empiar_structure import \\\n",
    "    save_empiar_structures, save_empiar_structure, load_empiar_structure\n",
    "\n",
    "# get first empiar id for test\n",
    "empiar_id = load_empiar_ids()[0]\n",
    "print(f\"{empiar_id = }\")\n",
    "# crawl its storage structure in EMPIAR via FTP\n",
    "save_empiar_structure(empiar_id)\n",
    "# load its storage structure from the .json file\n",
    "empiar_structure = load_empiar_structure(empiar_id)\n",
    "print(f\"{empiar_structure = }\")\n",
    "# crawl all storage structure in EMPIAR via FTP\n",
    "#! WARNING: it will take a long time, so uncomment it if you really need it\n",
    "# save_empiar_structures()"
   ]
  },
  {
   "cell_type": "markdown",
   "metadata": {},
   "source": [
    "## Save EMPIAR Path to Csv File"
   ]
  },
  {
   "cell_type": "code",
   "execution_count": 4,
   "metadata": {},
   "outputs": [
    {
     "name": "stdout",
     "output_type": "stream",
     "text": [
      "empiar_id = 'EMPIAR-10002'\n",
      "                                     ftp_absolute_path           relative_path\n",
      "0    ftp.ebi.ac.uk/empiar/world_availability/EMPIAR...               10002.xml\n",
      "1    ftp.ebi.ac.uk/empiar/world_availability/EMPIAR...  data/100_movie_gc.mrcs\n",
      "2    ftp.ebi.ac.uk/empiar/world_availability/EMPIAR...  data/101_movie_gc.mrcs\n",
      "3    ftp.ebi.ac.uk/empiar/world_availability/EMPIAR...  data/102_movie_gc.mrcs\n",
      "4    ftp.ebi.ac.uk/empiar/world_availability/EMPIAR...  data/103_movie_gc.mrcs\n",
      "..                                                 ...                     ...\n",
      "256  ftp.ebi.ac.uk/empiar/world_availability/EMPIAR...   data/95_movie_gc.mrcs\n",
      "257  ftp.ebi.ac.uk/empiar/world_availability/EMPIAR...   data/96_movie_gc.mrcs\n",
      "258  ftp.ebi.ac.uk/empiar/world_availability/EMPIAR...   data/97_movie_gc.mrcs\n",
      "259  ftp.ebi.ac.uk/empiar/world_availability/EMPIAR...   data/98_movie_gc.mrcs\n",
      "260  ftp.ebi.ac.uk/empiar/world_availability/EMPIAR...   data/99_movie_gc.mrcs\n",
      "\n",
      "[261 rows x 2 columns]\n"
     ]
    }
   ],
   "source": [
    "from CryoCRAB.pipeline.empiar_data_curation.step2_empiar_path_csv import \\\n",
    "    save_empiar_path_csvs, save_empiar_path_csv, load_empiar_path_csv\n",
    "    \n",
    "# get first empiar id for test\n",
    "empiar_id = load_empiar_ids()[0]\n",
    "print(f\"{empiar_id = }\")\n",
    "# load storage structure and save it into a .csv file\n",
    "save_empiar_path_csv(empiar_id)\n",
    "# load storage structure from the .csv file\n",
    "empiar_path_csv = load_empiar_path_csv(empiar_id)\n",
    "print(empiar_path_csv)\n",
    "# load all storage structure and save them into .csv files\n",
    "# save_empiar_path_csvs()"
   ]
  },
  {
   "cell_type": "markdown",
   "metadata": {},
   "source": [
    "## Get EMPIAR and EMDB Entries"
   ]
  },
  {
   "cell_type": "code",
   "execution_count": 5,
   "metadata": {},
   "outputs": [
    {
     "name": "stdout",
     "output_type": "stream",
     "text": [
      "empiar_id = 'EMPIAR-10002'\n"
     ]
    },
    {
     "name": "stderr",
     "output_type": "stream",
     "text": [
      "Crawling empiar entries: 100%|██████████| 1/1 [00:00<00:00, 1180.83it/s]\n",
      "Crawling emdb entries: 100%|██████████| 1/1 [00:00<00:00, 1587.55it/s]"
     ]
    },
    {
     "name": "stdout",
     "output_type": "stream",
     "text": [
      "[{'empiar': {'name': 'EMPIAR-10002', 'json_path': PosixPath('/home/vrlab/code/Cryo/CryoCRAB/Data/empiar-emdb-entries/empiar_entry/EMPIAR-10002.json')}, 'emdb': [{'name': 'EMD-2275', 'json_path': PosixPath('/home/vrlab/code/Cryo/CryoCRAB/Data/empiar-emdb-entries/emdb_entry/EMPIAR-10002/EMD-2275.json')}]}]\n"
     ]
    },
    {
     "name": "stderr",
     "output_type": "stream",
     "text": [
      "\n"
     ]
    }
   ],
   "source": [
    "from CryoCRAB.pipeline.empiar_data_curation.step3_crawl_empiar_emdb_entries import \\\n",
    "    save_empiar_emdb_entries, get_empiar_emdb_pair_list\n",
    "# get first empiar id for test\n",
    "empiar_id = load_empiar_ids()[0]\n",
    "print(f\"{empiar_id = }\")\n",
    "# crawl its EMPIAR & EMDB entries\n",
    "save_empiar_emdb_entries(empiar_id)\n",
    "# parse its empiar emdb pair\n",
    "empiar_emdb_pair = get_empiar_emdb_pair_list(empiar_id)\n",
    "print(empiar_emdb_pair)\n",
    "# crawl all EMPIAR & EMDB entries\n",
    "#! WARNING: it will take a long time, so uncomment it if you really need it\n",
    "# save_empiar_emdb_entries()"
   ]
  },
  {
   "cell_type": "markdown",
   "metadata": {},
   "source": [
    "# EMPIAR Data Curation Complete Pipeline"
   ]
  },
  {
   "cell_type": "code",
   "execution_count": null,
   "metadata": {},
   "outputs": [],
   "source": [
    "from CryoCRAB.pipeline.empiar_data_curation import *\n",
    "save_empiar_ids() # -> empiar-paths/empiar_ids.csv\n",
    "save_empiar_structures() # -> empiar-paths/empiar_structure/10002.json\n",
    "save_empiar_path_csvs() # -> empiar-paths/empiar_path_csv/10002.csv\n",
    "save_empiar_emdb_entries() \n",
    "# EMPIAR entry: -> empiar-emdb-entries/empiar_entry/EMPIAR-10002.json\n",
    "# EMDB entry: -> empiar-emdb-entries/emdb_entry/EMPIAR-10002/EMD-2275.json"
   ]
  }
 ],
 "metadata": {
  "kernelspec": {
   "display_name": "Python 3",
   "language": "python",
   "name": "python3"
  },
  "language_info": {
   "codemirror_mode": {
    "name": "ipython",
    "version": 3
   },
   "file_extension": ".py",
   "mimetype": "text/x-python",
   "name": "python",
   "nbconvert_exporter": "python",
   "pygments_lexer": "ipython3",
   "version": "3.10.13"
  }
 },
 "nbformat": 4,
 "nbformat_minor": 2
}
